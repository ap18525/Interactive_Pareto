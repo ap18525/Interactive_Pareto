{
 "cells": [
  {
   "cell_type": "markdown",
   "metadata": {
    "slideshow": {
     "slide_type": "-"
    }
   },
   "source": [
    "# Interactive Pareto front for decision making in reservoir operation under uncertainty\n",
    "In this section by means of an interactive example putting you into the role of a water system manager we will introduce the concept of decision making under uncertainty and different approaches to deal with forecast uncertainty.\n",
    "\n",
    "<left><img src=\"Images/Dam.gif\" width = \"400px\"><left>\n",
    "    \n",
    "## Decision making under uncertainty\n",
    "Imagine that as a manager you receive every week both a hydroclimate and a demand forecast for the next 4 weeks and must define a pumped inflow policy for this period. Each forecast contains 10 members or possible future scenarios with the same probability of occurrence. Here we present 3 different approaches to address the problem of defining a policy under uncertainty.\n",
    "    \n",
    "Main sources of uncertainty for this example:\n",
    "    \n",
    "**1) Hydroclimate forecast**\n",
    "\n",
    "<right> <img src=\"Images/Hydroclimatic_forecast3.gif\" width = \"400px\"><right>\n",
    "\n",
    "**2) Demand forecast**\n",
    "    \n",
    "<right> <img src=\"Images/Demand1.gif\" width = \"400px\"><right>\n",
    "    \n",
    "## 1. Import libraries\n",
    "**First of all, we need to import the necessary libraries to run the model:**\n",
    "### 1.1 Mathematical functions: Numpy"
   ]
  },
  {
   "cell_type": "code",
   "execution_count": 1,
   "metadata": {
    "collapsed": true
   },
   "outputs": [],
   "source": [
    "import numpy as np"
   ]
  },
  {
   "cell_type": "markdown",
   "metadata": {},
   "source": [
    "### 1.2 Interactive visualization: Bqplot and ipywidgets"
   ]
  },
  {
   "cell_type": "code",
   "execution_count": 2,
   "metadata": {
    "collapsed": true
   },
   "outputs": [],
   "source": [
    "from bqplot import pyplot as plt\n",
    "from bqplot import *\n",
    "from bqplot.traits import *\n",
    "import ipywidgets as widgets"
   ]
  },
  {
   "cell_type": "markdown",
   "metadata": {},
   "source": [
    "### 1.3 Optimization: Platypus (NSGA2)"
   ]
  },
  {
   "cell_type": "code",
   "execution_count": 3,
   "metadata": {
    "collapsed": true
   },
   "outputs": [],
   "source": [
    "from platypus import NSGAII, Problem, Real, Integer"
   ]
  },
  {
   "cell_type": "markdown",
   "metadata": {},
   "source": [
    "## 2. Define of the reservoir system\n",
    "\n",
    "<left> <img src=\"Images/system_representation_IO2.3.png\" width = \"600px\"><left>\n",
    "\n",
    "### 2.1 Inputs\n",
    "\n",
    "#### 2.1.1 Variables:\n",
    "\n",
    "$T$ = simulation time, in number of weeks\n",
    "\n",
    "** Seasonal weather forecast **\n",
    "\n",
    "$m$ = number of forecast members\n",
    "\n",
    "$I$ = weekly natural inflows, in ML/week (Matrix of size [T, m])\n",
    "\n",
    "$E$ = weekly evaporation volume, in ML/week (Matrix of size [T, m])\n",
    "\n",
    "$d$ = weekly demand, in ML/week (Matrix of size [T, m])"
   ]
  },
  {
   "cell_type": "code",
   "execution_count": 4,
   "metadata": {},
   "outputs": [
    {
     "data": {
      "application/vnd.jupyter.widget-view+json": {
       "model_id": "e31f06deb9184c64b3adbbf57a91a083",
       "version_major": 2,
       "version_minor": 0
      },
      "text/plain": [
       "A Jupyter Widget"
      ]
     },
     "metadata": {},
     "output_type": "display_data"
    }
   ],
   "source": [
    "T = 4 # weeks\n",
    "members_num = 10\n",
    "from clim_dem_forecast import forecast\n",
    "I_for,temp_for,E_for,d_for,uncertain = forecast(T,members_num) # in ML/day\n",
    "\n",
    "font_size = 14\n",
    "x_sc_fe = LinearScale()\n",
    "y_sc_fe = LinearScale(min = 0,max = 40)\n",
    "x_ax_fe = Axis(label='week',scale=x_sc_fe,tick_values = np.array([1,2,3,4]),tick_style={'fill': 'black', 'font-size': 16})\n",
    "y_ax_fe = Axis(label='ML/week', scale=y_sc_fe, orientation='vertical',tick_style={'fill': 'black', 'font-size': 16})\n",
    "\n",
    "inflow_forecast = plt.plot(x=np.arange(1,T+1),y=I_for,colors=['blue'],stroke_width = 1,opacities = [0.5]*members_num,\n",
    "                           display_legend=False,scales={'x': x_sc_fe, 'y': y_sc_fe})\n",
    "fig_fe_a       = plt.Figure(marks = [inflow_forecast], title = 'Inflow forecast for the next 4 weeks', \n",
    "                    axes=[x_ax_fe, y_ax_fe],layout={'min_width': '1000px', 'max_height': '300px'},\n",
    "                    scales={'x': x_sc_fe, 'y': y_sc_fe},legend_location = 'bottom-left')\n",
    "\n",
    "demand_forecast = plt.plot(x=np.arange(1,T+1),y=d_for,colors=['gray'],stroke_width = 1,opacities = [0.5]*members_num,\n",
    "                           display_legend=False,scales={'x': x_sc_fe, 'y': y_sc_fe})\n",
    "fig_fe_b       = plt.Figure(marks = [demand_forecast], title = 'Demand forecast for the next 4 weeks', axes=[x_ax_fe, y_ax_fe],\n",
    "                    layout={'min_width': '1000px', 'max_height': '300px'},\n",
    "                    scales={'x': x_sc_fe, 'y': y_sc_fe},legend_location = 'bottom-left')\n",
    "\n",
    "widgets.VBox([fig_fe_a,fig_fe_b])"
   ]
  },
  {
   "cell_type": "markdown",
   "metadata": {},
   "source": [
    "** Decisions **\n",
    "\n",
    "$u$ = pumped inflows, in ML/week (Vector of length T)\n",
    "\n",
    "\n",
    "#### 2.1.2 Initial conditions:\n",
    "\n",
    "$S_0$ = inital reservoir storage volume, in ML"
   ]
  },
  {
   "cell_type": "code",
   "execution_count": 5,
   "metadata": {
    "collapsed": true
   },
   "outputs": [],
   "source": [
    "S0 = 40 # in ML"
   ]
  },
  {
   "cell_type": "markdown",
   "metadata": {},
   "source": [
    "#### 2.1.3 Constraints:\n",
    "\n",
    "$S_{max}$ = max reservoir storage volume, in ML"
   ]
  },
  {
   "cell_type": "code",
   "execution_count": 6,
   "metadata": {
    "collapsed": true
   },
   "outputs": [],
   "source": [
    "Smax = 150 #  in ML"
   ]
  },
  {
   "cell_type": "markdown",
   "metadata": {},
   "source": [
    "$S_{min}$ = min reservoir storage volume, in ML"
   ]
  },
  {
   "cell_type": "code",
   "execution_count": 7,
   "metadata": {
    "collapsed": true
   },
   "outputs": [],
   "source": [
    "Smin = 20 # in ML"
   ]
  },
  {
   "cell_type": "markdown",
   "metadata": {},
   "source": [
    "$env_{min}$ = required environmental compensation flow, in ML/week"
   ]
  },
  {
   "cell_type": "code",
   "execution_count": 8,
   "metadata": {
    "collapsed": true
   },
   "outputs": [],
   "source": [
    "env_min = 2 # in ML/week"
   ]
  },
  {
   "cell_type": "markdown",
   "metadata": {},
   "source": [
    "$c$ = pumping energy cost per ML, in £/ML"
   ]
  },
  {
   "cell_type": "code",
   "execution_count": 9,
   "metadata": {
    "collapsed": true
   },
   "outputs": [],
   "source": [
    "c = 50 # £/ML"
   ]
  },
  {
   "cell_type": "markdown",
   "metadata": {},
   "source": [
    "### 2.2 Outputs\n",
    "\n",
    "#### 2.2.1 Reservoir weekly storage\n",
    "\n",
    "$S$ = reservoir storage, in ML (Vector of length T)\n",
    "\n",
    "##### 2.2.2 Outflows\n",
    "$u$ = reservoir controlled releases for water supply, in ML/week (Vector of length T)\n",
    "\n",
    "$w$ = spillways, in ML/week (Vector of length T)\n",
    "\n",
    "$env$ = environmental compensation outflow, in ML/week"
   ]
  },
  {
   "cell_type": "markdown",
   "metadata": {},
   "source": [
    "## 3. Simulation + optimization\n",
    "### 3.1 Reservoir system model"
   ]
  },
  {
   "cell_type": "code",
   "execution_count": 10,
   "metadata": {
    "collapsed": true
   },
   "outputs": [],
   "source": [
    "def syst_sim(T,I,E,d,S0,Smax,env_min):\n",
    "    \n",
    "    I = np.array(I)\n",
    "    E = np.array(E)\n",
    "    d = np.array(d)\n",
    "\n",
    "    r = np.array(d)\n",
    "    \n",
    "    num_members = np.shape(I)[0]\n",
    "    \n",
    "    # Declare output variables\n",
    "\n",
    "    S = np.array(np.zeros([np.shape(I)[0],np.shape(I)[1]+1]))\n",
    "\n",
    "    w = np.array(np.zeros(np.shape(I)))\n",
    "\n",
    "    env = np.array(np.zeros(np.shape(I)))+env_min\n",
    "    \n",
    "    ms = np.array(np.zeros(np.shape(I)[1]+1))+Smin\n",
    "    \n",
    "    pcost = np.array(np.zeros(np.shape(I)[0]))\n",
    "    \n",
    "    sdpen = np.array(np.zeros(np.shape(I)[0]))\n",
    "    \n",
    "    for m in range(num_members):\n",
    "        \n",
    "        S[m,0] = S0\n",
    "\n",
    "        for t in range(T):\n",
    "\n",
    "            # If at day t the inflow (I) is lower than the required environmental compensation (env_min), \n",
    "            # then environmental compensation (env) = inflow (I)  \n",
    "            if env_min >= I[m,t] :\n",
    "                env[m,t] = I[m,t]\n",
    "\n",
    "            if env_min >= S[m,t] + I[m,t] - E[m,t]:\n",
    "                env[m,t] = max(0,S[m,t] + I[m,t] - E[m,t])\n",
    "\n",
    "            if d[m,t] >= S[m,t] + I[m,t] - E[m,t] - env[m,t]:\n",
    "                r[m,t] = min(r[m,t],max(0,S[m,t] + I[m,t] - E[m,t] - env[m,t]))\n",
    "\n",
    "            w[m,t] = max(0,S[m,t] + I[m,t] - r[m,t] - env[m,t] - E[m,t] - Smax)\n",
    "\n",
    "            S[m,t+1] = S[m,t] + I[m,t] - r[m,t] - env[m,t]- E[m,t] - w[m,t]\n",
    "              \n",
    "    return S,env,w,r"
   ]
  },
  {
   "cell_type": "markdown",
   "metadata": {},
   "source": [
    "### 3.2 Optimization"
   ]
  },
  {
   "cell_type": "code",
   "execution_count": 11,
   "metadata": {
    "collapsed": true
   },
   "outputs": [],
   "source": [
    "from platypus import NSGAII, Problem, Real, Integer\n",
    "\n",
    "def auto_optim(vars):\n",
    "    \n",
    "    pinflow1 = vars[0]\n",
    "    pinflow2 = 0\n",
    "    pinflow3 = 0\n",
    "    pinflow4 = 0\n",
    "    \n",
    "    u = np.array([pinflow1,pinflow2,pinflow3,pinflow4])\n",
    "    S,env,w,r = syst_sim(T,I_for+u,E_for,d_for,S0,Smax,env_min)\n",
    "    \n",
    "    sdpen_mean = np.mean(np.sum(np.maximum(d_for-r,np.zeros(np.shape(d_for))),axis=1))\n",
    "    pcost = np.sum(np.array(u)*c)\n",
    "    \n",
    "    return [sdpen_mean,pcost]\n",
    "\n",
    "problem = Problem(1,2)\n",
    "Real0 = Real(0, 40)\n",
    "\n",
    "problem.types[:] = [Real0]\n",
    "problem.function = auto_optim\n",
    "\n",
    "population_size = 20\n",
    "algorithm = NSGAII(problem,population_size)\n",
    "algorithm.run(10000) # Number of iterations\n",
    "\n",
    "results1_optim_relea = np.array([algorithm.result[i].objectives[0] for i in range(population_size)])\n",
    "results2_optim_relea = np.array([algorithm.result[i].objectives[1] for i in range(population_size)])\n",
    "\n",
    "solutions_optim_relea = [[algorithm.result[i].variables[0],0,0,0] for i in range(population_size)]"
   ]
  },
  {
   "cell_type": "markdown",
   "metadata": {},
   "source": [
    "## 4. Results visualization + Decision making\n",
    "\n",
    "** Pareto front **\n",
    "\n",
    "<left> <img src=\"Images/ParetoFront.png\" width = \"600px\"><left>"
   ]
  },
  {
   "cell_type": "code",
   "execution_count": 14,
   "metadata": {},
   "outputs": [],
   "source": [
    "sdpen = np.zeros([members_num,population_size])\n",
    "sdpen_mean = np.zeros(population_size)\n",
    "sdpen_std = np.zeros(population_size)\n",
    "\n",
    "for i in range(population_size):\n",
    "    S_opt,env_opt,w_opt,r_opt = syst_sim(T,I_for+solutions_optim_relea[i],E_for,d_for,S0,Smax,env_min)\n",
    "    sdpen[:,i] = np.sum(np.maximum(d_for-r_opt,np.zeros(np.shape(d_for))),axis = 1)\n",
    "    sdpen_mean[i] = np.mean(sdpen[:,i])\n",
    "    sdpen_std[i] = np.std(sdpen[:,i])\n",
    "    r_opt"
   ]
  },
  {
   "cell_type": "code",
   "execution_count": 13,
   "metadata": {
    "scrolled": false
   },
   "outputs": [
    {
     "data": {
      "application/vnd.jupyter.widget-view+json": {
       "model_id": "a31c907fff5e46eaa78ae10aa8b91c3a",
       "version_major": 2,
       "version_minor": 0
      },
      "text/plain": [
       "A Jupyter Widget"
      ]
     },
     "metadata": {},
     "output_type": "display_data"
    }
   ],
   "source": [
    "def update_operation(i):\n",
    "    S,env,w,r    = syst_sim(T,I_for+solutions_optim_relea[i],E_for,d_for,S0,Smax,env_min)\n",
    "    fig_wd.title = 'Supply deficit - Probability = {:.0f}'.format(np.max(np.count_nonzero(d_for-r,axis =0)))+' / '+str(members_num)\n",
    "    fig_pi.title = 'Pumped inflow - Energy cost = £{:.0f}'.format(results2_optim_relea[i])\n",
    "    return       S,solutions_optim_relea[i],r,results1_optim_relea[i],results2_optim_relea[i],i\n",
    "\n",
    "def solution_selected(change):\n",
    "    if pareto_front.selected == None:\n",
    "        pareto_front.selected = [0]\n",
    "    storage.y = update_operation(pareto_front.selected[0])[0]\n",
    "    deficit.y = np.maximum(d_for-update_operation(pareto_front.selected[0])[2],np.zeros(np.shape(d_for)))\n",
    "    pinflows.y = update_operation(pareto_front.selected[0])[1]\n",
    "    pareto_front_ensemble.x = np.reshape([results2_optim_relea for i in range(0, members_num)],(members_num,population_size))[:,pareto_front.selected[0]]\n",
    "    pareto_front_ensemble.y = sdpen[:,pareto_front.selected[0]]\n",
    "    pareto_front_ensemble.unselected_style={'opacity': 0.1}\n",
    "    pareto_front_ensemble.selected_style={'opacity': 0.1}\n",
    "    pareto_front_ensemble.opacity = [0.1]*10\n",
    "    \n",
    "x_sc_pf = LinearScale()\n",
    "y_sc_pf = LinearScale(min = 0,max = 50)\n",
    "\n",
    "x_ax_pf = Axis(label='Pumping energy cost [£]', scale=x_sc_pf)\n",
    "y_ax_pf = Axis(label='Supply deficit [ML]', scale=y_sc_pf, orientation='vertical')\n",
    "\n",
    "pareto_front = plt.scatter(results2_optim_relea[:],results1_optim_relea[:],scales={'x': x_sc_pf, 'y': y_sc_pf},colors=['deepskyblue'], interactions={'hover':'tooltip','click': 'select'})\n",
    "pareto_front.unselected_style={'opacity': 0.8}\n",
    "pareto_front.selected_style={'fill': 'red', 'stroke': 'yellow', 'width': '1125px', 'height': '125px'}\n",
    "\n",
    "if pareto_front.selected == []:\n",
    "    pareto_front.selected = [0]\n",
    "    \n",
    "pareto_front_ensemble = plt.Scatter(x=np.reshape([results2_optim_relea for i in range(0, members_num)],(members_num,population_size))[:,pareto_front.selected[0]],\n",
    "                                    y=sdpen[:,pareto_front.selected[0]],scales={'x': x_sc_pf, 'y': y_sc_pf},\n",
    "                                    colors=['red'], interactions={'hover':'tooltip','click': 'select'})\n",
    "pareto_front_ensemble.unselected_style={'opacity': 0.1}\n",
    "pareto_front_ensemble.selected_style={'opacity': 0.1}\n",
    "pareto_front_ensemble.opacity = [0.1]*10\n",
    "fig_pf = plt.Figure(marks=[pareto_front,pareto_front_ensemble],title = 'Pareto front', axes=[x_ax_pf, y_ax_pf],layout={'width': '500px', 'height': '500px'}, \n",
    "                    animation_duration=500)\n",
    "\n",
    "pareto_front.observe(solution_selected,'selected')    \n",
    "\n",
    "S,env,w,r    = syst_sim(T,I_for+solutions_optim_relea[pareto_front.selected[0]],E_for,d_for,S0,Smax,env_min)\n",
    "\n",
    "x_sc_pi    = OrdinalScale(min=1,max=T);y_sc_pi = LinearScale(min=0,max=40); x_ax_pi = Axis(label='week', scale=x_sc_pi);                              y_ax_pi = Axis(label='ML/week', scale=y_sc_pi, orientation='vertical')\n",
    "x_sc_st    = LinearScale(min=0,max=T); y_sc_st = LinearScale(min=10,max=160);x_ax_st = Axis(label='week', scale=x_sc_st,tick_values=[0.5,1.5,2.5,3.5]);y_ax_st = Axis(label='ML', scale=y_sc_st, orientation='vertical')\n",
    "x_sc_wd    = OrdinalScale(min=1,max=T);y_sc_wd = LinearScale(min=0,max=60); x_ax_wd = Axis(label='week', scale=x_sc_wd);                              y_ax_wd = Axis(label='ML/week', scale=y_sc_wd, orientation='vertical')\n",
    "\n",
    "pinflows = plt.bar(np.arange(1,T+1),solutions_optim_relea[pareto_front.selected[0]],scales={'x': x_sc_pi, 'y': y_sc_pi},\n",
    "                               colors=['orange'],opacities = [1],stroke = 'lightgray',\n",
    "                               labels = ['pumped inflow'], display_legend = False)\n",
    "\n",
    "fig_pi   = plt.Figure(marks = [pinflows],axes=[x_ax_pi, y_ax_pi],layout={'max_width': '480px', 'max_height': '250px'},\n",
    "                    scales={'x': x_sc_pi, 'y': y_sc_pi}, animation_duration=1000,legend_location = 'bottom-right')\n",
    "\n",
    "storage           = plt.plot(x=np.arange(0,T+1),y=S,scales={'x': x_sc_st, 'y': y_sc_st},\n",
    "                              colors=['blue'], stroke_width = 0.1,\n",
    "                              fill = 'bottom', fill_opacities = [0.1]*members_num)\n",
    "max_storage       = plt.plot(x=np.arange(0,T+1),y=[Smax]*(T+1),colors=['red'],scales={'x': x_sc_st, 'y': y_sc_st})\n",
    "max_storage_label = plt.label(text = ['Max storage'], x=[0],y=[Smax+10],colors=['red'])\n",
    "fig_st            = plt.Figure(marks = [storage,max_storage,max_storage_label], title = 'Reservoir storage volume', \n",
    "                     axes=[x_ax_st, y_ax_st],layout={'width': '1000px', 'height': '350px'}, animation_duration=1000,scales={'x': x_sc_st, 'y': y_sc_st})\n",
    "\n",
    "vertical_lines_wd = plt.vline([1,2,3],colors = ['black'])\n",
    "\n",
    "deficit = plt.bar(np.arange(1,T+1),np.maximum(d_for-r,np.zeros(np.shape(r))),scales={'x': x_sc_wd, 'y': y_sc_wd},\n",
    "                                colors=['red'],opacities = [0.7]*members_num*T,stroke = 'lightgray',\n",
    "                                labels = ['release'], display_legend = False,type = 'grouped',base=0,align='center')\n",
    "fig_wd = plt.Figure(marks = [deficit,vertical_lines_wd],axes=[x_ax_wd, y_ax_wd],layout={'max_width': '480px', 'max_height': '250px'},\n",
    "                    scales={'x': x_sc_wd, 'y': y_sc_wd}, animation_duration=1000,legend_location = 'bottom-right')\n",
    "\n",
    "storage.y  = update_operation(pareto_front.selected[0])[0]\n",
    "deficit.y  = np.maximum(d_for-update_operation(pareto_front.selected[0])[2],np.zeros(np.shape(d_for)))\n",
    "pinflows.y = update_operation(pareto_front.selected[0])[1]\n",
    "\n",
    "storage.observe(solution_selected, ['x', 'y'])\n",
    "deficit.observe(solution_selected, ['x', 'y'])\n",
    "pinflows.observe(solution_selected, ['x', 'y'])\n",
    "\n",
    "widgets.VBox([widgets.HBox([widgets.VBox([fig_pi,fig_wd]),fig_pf]),widgets.HBox([fig_st])])"
   ]
  },
  {
   "cell_type": "code",
   "execution_count": null,
   "metadata": {
    "collapsed": true
   },
   "outputs": [],
   "source": []
  }
 ],
 "metadata": {
  "kernelspec": {
   "display_name": "Python 3",
   "language": "python",
   "name": "python3"
  },
  "language_info": {
   "codemirror_mode": {
    "name": "ipython",
    "version": 3
   },
   "file_extension": ".py",
   "mimetype": "text/x-python",
   "name": "python",
   "nbconvert_exporter": "python",
   "pygments_lexer": "ipython3",
   "version": "3.6.3"
  }
 },
 "nbformat": 4,
 "nbformat_minor": 2
}
